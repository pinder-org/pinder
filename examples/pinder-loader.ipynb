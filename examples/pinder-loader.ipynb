{
 "cells": [
  {
   "cell_type": "markdown",
   "id": "b279501d-0553-4756-a611-08ade109f1de",
   "metadata": {},
   "source": [
    "# Pinder loader\n",
    "\n",
    "\n",
    "\n",
    "Pinder loader brings together filters, transforms and writers to create an optionally parallel `PinderSystem` iterator. \n",
    "\n",
    "Takes either split or list of systems as input.\n"
   ]
  },
  {
   "cell_type": "code",
   "execution_count": 1,
   "id": "6e09ccc9-215f-4d8e-a08f-1de96bb42131",
   "metadata": {},
   "outputs": [
    {
     "data": {
      "text/plain": [
       "PinderLoader(\n",
       "    dimers=None,\n",
       "    base_filters=[\n",
       "        FilterByMissingHolo,\n",
       "        FilterSubByContacts,\n",
       "        FilterByHoloElongation,\n",
       "        FilterDetachedHolo,\n",
       "    ],\n",
       "    sub_filters=[\n",
       "        FilterSubByAtomTypes,\n",
       "        FilterByHoloOverlap(min_overlap=5),\n",
       "        FilterByHoloSeqIdentity(min_sequence_identity=0.8),\n",
       "        FilterSubLengths,\n",
       "        FilterSubRmsds,\n",
       "        FilterByElongation,\n",
       "        FilterDetachedSub,\n",
       "    ],\n",
       "    writer=None,\n",
       ")"
      ]
     },
     "execution_count": 1,
     "metadata": {},
     "output_type": "execute_result"
    }
   ],
   "source": [
    "from pinder.core import PinderLoader\n",
    "from pinder.core.loader import filters\n",
    "\n",
    "base_filters = [\n",
    "    filters.FilterByMissingHolo(),\n",
    "    filters.FilterSubByContacts(min_contacts=5, radius=10.0, calpha_only=True),\n",
    "    filters.FilterByHoloElongation(max_var_contribution=0.92),\n",
    "    filters.FilterDetachedHolo(radius=12, max_components=2),\n",
    "]\n",
    "sub_filters = [\n",
    "    filters.FilterSubByAtomTypes(min_atom_types=4),\n",
    "    filters.FilterByHoloOverlap(min_overlap=5),\n",
    "    filters.FilterByHoloSeqIdentity(min_sequence_identity=0.8),\n",
    "    filters.FilterSubLengths(min_length=0, max_length=1000),\n",
    "    filters.FilterSubRmsds(rmsd_cutoff=7.5),\n",
    "    filters.FilterByElongation(max_var_contribution=0.92),\n",
    "    filters.FilterDetachedSub(radius=12, max_components=2),\n",
    "]\n",
    "loader = PinderLoader(\n",
    "    base_filters = base_filters,\n",
    "    sub_filters = sub_filters\n",
    ")\n",
    "\n",
    "loader"
   ]
  },
  {
   "cell_type": "markdown",
   "id": "95707004-e026-40c4-abc1-a8fa84614b6f",
   "metadata": {},
   "source": [
    "## Loading a specific split\n",
    "Note: only the test dataset has a subset defined (`pinder_s, pinder_xl, pinder_af2`)\n",
    "\n",
    "For train and val, you could just do:\n",
    "```python\n",
    "loader.load_split(\"train\")\n",
    "loader.load_split(\"val\")\n",
    "```\n"
   ]
  },
  {
   "cell_type": "code",
   "execution_count": 2,
   "id": "f7bcbe6e-4bd3-435c-9ff0-cf611f6bf9cf",
   "metadata": {},
   "outputs": [],
   "source": [
    "loader.load_split(\"test\", \"pinder_af2\")"
   ]
  },
  {
   "cell_type": "code",
   "execution_count": 3,
   "id": "bdb3327d-26d2-46fc-95ea-de2ea2fc0516",
   "metadata": {},
   "outputs": [
    {
     "name": "stderr",
     "output_type": "stream",
     "text": [
      "  1%|█▏                                                                                                                                                                                                           | 1/180 [00:00<02:41,  1.11it/s]"
     ]
    },
    {
     "name": "stdout",
     "output_type": "stream",
     "text": [
      "7rzb__A1_A0A229LVN5--7rzb__A2_A0A229LVN5\n"
     ]
    },
    {
     "name": "stderr",
     "output_type": "stream",
     "text": [
      "  1%|██▎                                                                                                                                                                                                          | 2/180 [00:01<01:31,  1.94it/s]"
     ]
    },
    {
     "name": "stdout",
     "output_type": "stream",
     "text": [
      "7uln__A1_P09514--7uln__B1_P09514\n"
     ]
    },
    {
     "name": "stderr",
     "output_type": "stream",
     "text": [
      "  2%|███▍                                                                                                                                                                                                         | 3/180 [00:01<01:08,  2.59it/s]"
     ]
    },
    {
     "name": "stdout",
     "output_type": "stream",
     "text": [
      "7dnu__A1_P32092--7dnu__A2_P32092\n"
     ]
    },
    {
     "name": "stderr",
     "output_type": "stream",
     "text": [
      "  2%|████▌                                                                                                                                                                                                        | 4/180 [00:01<01:06,  2.66it/s]"
     ]
    },
    {
     "name": "stdout",
     "output_type": "stream",
     "text": [
      "8b3s__A1_O31597--8b3s__B1_A0A164W157\n"
     ]
    },
    {
     "name": "stderr",
     "output_type": "stream",
     "text": [
      "  3%|█████▋                                                                                                                                                                                                       | 5/180 [00:02<00:59,  2.93it/s]"
     ]
    },
    {
     "name": "stdout",
     "output_type": "stream",
     "text": [
      "8oqj__B1_P06959--8oqj__A1_P06959\n"
     ]
    },
    {
     "name": "stderr",
     "output_type": "stream",
     "text": [
      "  4%|███████▉                                                                                                                                                                                                     | 7/180 [00:02<00:49,  3.50it/s]"
     ]
    },
    {
     "name": "stdout",
     "output_type": "stream",
     "text": [
      "8gzy__A1_P0A9A6--8gzy__B1_UNDEFINED\n",
      "8pr6__B1_A0A1Q6BKH4--8pr6__A1_A0A1Q6BKH4\n"
     ]
    },
    {
     "name": "stderr",
     "output_type": "stream",
     "text": [
      "  4%|█████████                                                                                                                                                                                                    | 8/180 [00:02<00:51,  3.32it/s]"
     ]
    },
    {
     "name": "stdout",
     "output_type": "stream",
     "text": [
      "8j64__A1_Q967S9--8j64__B1_O00816\n"
     ]
    },
    {
     "name": "stderr",
     "output_type": "stream",
     "text": [
      "  5%|██████████▎                                                                                                                                                                                                  | 9/180 [00:03<00:50,  3.41it/s]"
     ]
    },
    {
     "name": "stdout",
     "output_type": "stream",
     "text": [
      "7ubk__B1_P03047--7ubk__A1_P03047\n"
     ]
    },
    {
     "name": "stderr",
     "output_type": "stream",
     "text": [
      "  6%|███████████▎                                                                                                                                                                                                | 10/180 [00:03<00:51,  3.27it/s]"
     ]
    },
    {
     "name": "stdout",
     "output_type": "stream",
     "text": [
      "7zj1__B1_P55265--7zj1__A1_P55265\n"
     ]
    },
    {
     "name": "stderr",
     "output_type": "stream",
     "text": [
      "  6%|████████████▍                                                                                                                                                                                               | 11/180 [00:03<01:01,  2.76it/s]"
     ]
    },
    {
     "name": "stdout",
     "output_type": "stream",
     "text": [
      "7ula__B1_Q88ND0--7ula__A1_Q88NC7\n"
     ]
    },
    {
     "name": "stderr",
     "output_type": "stream",
     "text": [
      "  7%|█████████████▌                                                                                                                                                                                              | 12/180 [00:04<00:53,  3.12it/s]"
     ]
    },
    {
     "name": "stdout",
     "output_type": "stream",
     "text": [
      "7zjc__A1_P0DV83--7zjc__A2_P0DV83\n"
     ]
    },
    {
     "name": "stderr",
     "output_type": "stream",
     "text": [
      "  7%|██████████████▋                                                                                                                                                                                             | 13/180 [00:04<00:50,  3.31it/s]"
     ]
    },
    {
     "name": "stdout",
     "output_type": "stream",
     "text": [
      "8ju7__A1_Q9I2U4--8ju7__B1_Q9I2U4\n"
     ]
    },
    {
     "name": "stderr",
     "output_type": "stream",
     "text": [
      "  8%|███████████████▊                                                                                                                                                                                            | 14/180 [00:04<00:46,  3.53it/s]"
     ]
    },
    {
     "name": "stdout",
     "output_type": "stream",
     "text": [
      "7ztw__A1_Q66578--7ztw__B1_Q66578\n"
     ]
    },
    {
     "name": "stderr",
     "output_type": "stream",
     "text": [
      "  9%|██████████████████▏                                                                                                                                                                                         | 16/180 [00:05<00:52,  3.11it/s]"
     ]
    },
    {
     "name": "stdout",
     "output_type": "stream",
     "text": [
      "8ic1__A1_UNDEFINED--8ic1__B1_UNDEFINED\n"
     ]
    },
    {
     "name": "stderr",
     "output_type": "stream",
     "text": [
      "  9%|███████████████████▎                                                                                                                                                                                        | 17/180 [00:05<01:00,  2.68it/s]"
     ]
    },
    {
     "name": "stdout",
     "output_type": "stream",
     "text": [
      "8b28__A1_F6GSX7--8b28__A2_F6GSX7\n"
     ]
    },
    {
     "name": "stderr",
     "output_type": "stream",
     "text": [
      " 10%|████████████████████▍                                                                                                                                                                                       | 18/180 [00:06<00:55,  2.92it/s]"
     ]
    },
    {
     "name": "stdout",
     "output_type": "stream",
     "text": [
      "7zal__A1_E3T5W0--7zal__E2_E3T5W0\n"
     ]
    },
    {
     "name": "stderr",
     "output_type": "stream",
     "text": [
      " 11%|█████████████████████▌                                                                                                                                                                                      | 19/180 [00:06<00:54,  2.95it/s]"
     ]
    },
    {
     "name": "stdout",
     "output_type": "stream",
     "text": [
      "7qfz__B1_B7L3Y3--7qfz__A1_B7L3Y3\n"
     ]
    },
    {
     "name": "stderr",
     "output_type": "stream",
     "text": [
      " 11%|██████████████████████▋                                                                                                                                                                                     | 20/180 [00:06<00:54,  2.92it/s]"
     ]
    },
    {
     "name": "stdout",
     "output_type": "stream",
     "text": [
      "7xky__A1_Q58690--7xky__B1_Q58034\n"
     ]
    },
    {
     "name": "stderr",
     "output_type": "stream",
     "text": [
      " 12%|███████████████████████▊                                                                                                                                                                                    | 21/180 [00:07<00:57,  2.74it/s]"
     ]
    },
    {
     "name": "stdout",
     "output_type": "stream",
     "text": [
      "8f71__B1_Q6N5G3--8f71__A1_Q6N5G3\n"
     ]
    },
    {
     "name": "stderr",
     "output_type": "stream",
     "text": [
      " 12%|████████████████████████▉                                                                                                                                                                                   | 22/180 [00:08<01:30,  1.75it/s]"
     ]
    },
    {
     "name": "stdout",
     "output_type": "stream",
     "text": [
      "8ic6__A1_UNDEFINED--8ic6__B1_UNDEFINED\n"
     ]
    },
    {
     "name": "stderr",
     "output_type": "stream",
     "text": [
      " 13%|██████████████████████████                                                                                                                                                                                  | 23/180 [00:08<01:14,  2.12it/s]"
     ]
    },
    {
     "name": "stdout",
     "output_type": "stream",
     "text": [
      "8qfo__A1_A0A840P3H4--8qfo__B1_A0A840P3H4\n"
     ]
    },
    {
     "name": "stderr",
     "output_type": "stream",
     "text": [
      " 14%|████████████████████████████▎                                                                                                                                                                               | 25/180 [00:09<00:55,  2.80it/s]"
     ]
    },
    {
     "name": "stdout",
     "output_type": "stream",
     "text": [
      "7qfk__C1_Q5FLN0--7qfk__A1_Q5FLN0\n",
      "8dfk__A1_P39694--8dfk__B1_P39694\n"
     ]
    },
    {
     "name": "stderr",
     "output_type": "stream",
     "text": [
      " 14%|█████████████████████████████▍                                                                                                                                                                              | 26/180 [00:09<00:48,  3.16it/s]"
     ]
    },
    {
     "name": "stdout",
     "output_type": "stream",
     "text": [
      "8hno__A1_B6YTS4--8hno__B1_B6YTS4\n"
     ]
    },
    {
     "name": "stderr",
     "output_type": "stream",
     "text": [
      " 15%|██████████████████████████████▌                                                                                                                                                                             | 27/180 [00:09<00:43,  3.53it/s]"
     ]
    },
    {
     "name": "stdout",
     "output_type": "stream",
     "text": [
      "8hn2__A1_Q9F722--8hn2__B1_Q9F722\n"
     ]
    },
    {
     "name": "stderr",
     "output_type": "stream",
     "text": [
      " 16%|████████████████████████████████▊                                                                                                                                                                           | 29/180 [00:10<00:41,  3.67it/s]"
     ]
    },
    {
     "name": "stdout",
     "output_type": "stream",
     "text": [
      "7p0h__A1_O26008--7p0h__C1_O26008\n"
     ]
    },
    {
     "name": "stderr",
     "output_type": "stream",
     "text": [
      " 17%|██████████████████████████████████                                                                                                                                                                          | 30/180 [00:10<00:36,  4.11it/s]"
     ]
    },
    {
     "name": "stdout",
     "output_type": "stream",
     "text": [
      "8h56__A1_Q8BB16--8h56__B1_Q8BB16\n"
     ]
    },
    {
     "name": "stderr",
     "output_type": "stream",
     "text": [
      " 17%|███████████████████████████████████▏                                                                                                                                                                        | 31/180 [00:10<00:48,  3.05it/s]"
     ]
    },
    {
     "name": "stdout",
     "output_type": "stream",
     "text": [
      "8d3t__B1_A0A2K2AMS7--8d3t__A1_A0A2K2AMS7\n"
     ]
    },
    {
     "name": "stderr",
     "output_type": "stream",
     "text": [
      " 18%|█████████████████████████████████████▍                                                                                                                                                                      | 33/180 [00:11<00:40,  3.59it/s]"
     ]
    },
    {
     "name": "stdout",
     "output_type": "stream",
     "text": [
      "8af9__A1_Q2YPZ9--8af9__H1_Q2YPZ9\n"
     ]
    },
    {
     "name": "stderr",
     "output_type": "stream",
     "text": [
      " 19%|███████████████████████████████████████▋                                                                                                                                                                    | 35/180 [00:11<00:34,  4.14it/s]"
     ]
    },
    {
     "name": "stdout",
     "output_type": "stream",
     "text": [
      "7x2p__A1_Q5ZWH7--7x2p__B1_Q5ZWH7\n",
      "7n35__A1_UNDEFINED--7n35__B2_UNDEFINED\n"
     ]
    },
    {
     "name": "stderr",
     "output_type": "stream",
     "text": [
      " 20%|████████████████████████████████████████▊                                                                                                                                                                   | 36/180 [00:11<00:36,  3.90it/s]"
     ]
    },
    {
     "name": "stdout",
     "output_type": "stream",
     "text": [
      "7tcr__A1_A0A2D2D5M1--7tcr__D1_A0A2D2CY73\n"
     ]
    },
    {
     "name": "stderr",
     "output_type": "stream",
     "text": [
      " 21%|█████████████████████████████████████████▉                                                                                                                                                                  | 37/180 [00:12<00:43,  3.31it/s]"
     ]
    },
    {
     "name": "stdout",
     "output_type": "stream",
     "text": [
      "8bgm__B1_A0A5P3XKL3--8bgm__A1_A0A5P3XKM0\n"
     ]
    },
    {
     "name": "stderr",
     "output_type": "stream",
     "text": [
      "2024-07-18 22:02:07,583 | pinder.core.loader.filters:407 | WARNING : Skipping FilterSubRmsds on 8e1u__A1_A0A160VN62--8e1u__F2_A0A160VN62 as holo monomers have been filtered out\n",
      " 22%|████████████████████████████████████████████▏                                                                                                                                                               | 39/180 [00:15<02:07,  1.11it/s]"
     ]
    },
    {
     "name": "stdout",
     "output_type": "stream",
     "text": [
      "7wbt__A1_Q288C4--7wbt__B1_Q288C4\n"
     ]
    },
    {
     "name": "stderr",
     "output_type": "stream",
     "text": [
      " 22%|█████████████████████████████████████████████▎                                                                                                                                                              | 40/180 [00:15<01:52,  1.25it/s]"
     ]
    },
    {
     "name": "stdout",
     "output_type": "stream",
     "text": [
      "7z7o__A1_A0A1S4NYF2--7z7o__C1_A0A1S4NYF2\n"
     ]
    },
    {
     "name": "stderr",
     "output_type": "stream",
     "text": [
      " 23%|██████████████████████████████████████████████▍                                                                                                                                                             | 41/180 [00:16<01:58,  1.17it/s]"
     ]
    },
    {
     "name": "stdout",
     "output_type": "stream",
     "text": [
      "7vzy__B1_Q84G19--7vzy__A1_Q84G19\n"
     ]
    },
    {
     "name": "stderr",
     "output_type": "stream",
     "text": [
      " 23%|███████████████████████████████████████████████▌                                                                                                                                                            | 42/180 [00:16<01:37,  1.42it/s]"
     ]
    },
    {
     "name": "stdout",
     "output_type": "stream",
     "text": [
      "8brp__A1_D8G6F7--8brp__B1_D8G6F7\n"
     ]
    },
    {
     "name": "stderr",
     "output_type": "stream",
     "text": [
      " 24%|████████████████████████████████████████████████▋                                                                                                                                                           | 43/180 [00:17<01:21,  1.68it/s]"
     ]
    },
    {
     "name": "stdout",
     "output_type": "stream",
     "text": [
      "7vkb__A1_Q5ZSZ6--7vkb__B1_Q5ZSZ7\n"
     ]
    },
    {
     "name": "stderr",
     "output_type": "stream",
     "text": [
      " 24%|█████████████████████████████████████████████████▊                                                                                                                                                          | 44/180 [00:18<01:30,  1.50it/s]"
     ]
    },
    {
     "name": "stdout",
     "output_type": "stream",
     "text": [
      "7vma__A1_C5A758--7vma__A2_C5A758\n"
     ]
    },
    {
     "name": "stderr",
     "output_type": "stream",
     "text": [
      " 25%|███████████████████████████████████████████████████                                                                                                                                                         | 45/180 [00:18<01:30,  1.49it/s]"
     ]
    },
    {
     "name": "stdout",
     "output_type": "stream",
     "text": [
      "7ylq__A1_Q93CA6--7ylq__B1_Q93CA6\n"
     ]
    },
    {
     "name": "stderr",
     "output_type": "stream",
     "text": [
      " 26%|████████████████████████████████████████████████████▏                                                                                                                                                       | 46/180 [00:19<01:30,  1.48it/s]"
     ]
    },
    {
     "name": "stdout",
     "output_type": "stream",
     "text": [
      "8pte__A1_P00698--8pte__A2_P00698\n"
     ]
    },
    {
     "name": "stderr",
     "output_type": "stream",
     "text": [
      " 27%|██████████████████████████████████████████████████████▍                                                                                                                                                     | 48/180 [00:20<01:02,  2.11it/s]"
     ]
    },
    {
     "name": "stdout",
     "output_type": "stream",
     "text": [
      "7ytl__A1_E1BR24--7ytl__A2_E1BR24\n",
      "7xmw__B1_U2Q5N5--7xmw__A1_U2Q5N5\n"
     ]
    },
    {
     "name": "stderr",
     "output_type": "stream",
     "text": [
      " 27%|███████████████████████████████████████████████████████▌                                                                                                                                                    | 49/180 [00:20<00:48,  2.69it/s]"
     ]
    },
    {
     "name": "stdout",
     "output_type": "stream",
     "text": [
      "7ytu__B1_P68623--7ytu__A1_P68458\n"
     ]
    },
    {
     "name": "stderr",
     "output_type": "stream",
     "text": [
      " 28%|████████████████████████████████████████████████████████▋                                                                                                                                                   | 50/180 [00:20<00:44,  2.91it/s]"
     ]
    },
    {
     "name": "stdout",
     "output_type": "stream",
     "text": [
      "7skr__A1_Q0QDZ2--7skr__A2_Q0QDZ2\n"
     ]
    },
    {
     "name": "stderr",
     "output_type": "stream",
     "text": [
      " 28%|█████████████████████████████████████████████████████████▊                                                                                                                                                  | 51/180 [00:20<00:42,  3.07it/s]"
     ]
    },
    {
     "name": "stdout",
     "output_type": "stream",
     "text": [
      "7yka__B1_Q9Y3D6--7yka__A1_Q9Y3D6\n"
     ]
    },
    {
     "name": "stderr",
     "output_type": "stream",
     "text": [
      " 29%|██████████████████████████████████████████████████████████▉                                                                                                                                                 | 52/180 [00:21<00:40,  3.15it/s]"
     ]
    },
    {
     "name": "stdout",
     "output_type": "stream",
     "text": [
      "7yk3__A1_O53604--7yk3__B1_O53605\n"
     ]
    },
    {
     "name": "stderr",
     "output_type": "stream",
     "text": [
      " 29%|████████████████████████████████████████████████████████████                                                                                                                                                | 53/180 [00:21<00:54,  2.35it/s]"
     ]
    },
    {
     "name": "stdout",
     "output_type": "stream",
     "text": [
      "7ykv__B1_Q58241--7ykv__A1_Q58241\n",
      "8imd__A1_UNDEFINED--8imd__B1_UNDEFINED\n"
     ]
    },
    {
     "name": "stderr",
     "output_type": "stream",
     "text": [
      " 31%|██████████████████████████████████████████████████████████████▎                                                                                                                                             | 55/180 [00:22<00:37,  3.31it/s]"
     ]
    },
    {
     "name": "stdout",
     "output_type": "stream",
     "text": [
      "8hyn__A1_UNDEFINED--8hyn__B1_UNDEFINED\n"
     ]
    },
    {
     "name": "stderr",
     "output_type": "stream",
     "text": [
      " 31%|███████████████████████████████████████████████████████████████▍                                                                                                                                            | 56/180 [00:22<00:52,  2.35it/s]"
     ]
    },
    {
     "name": "stdout",
     "output_type": "stream",
     "text": [
      "7xsh__A1_K1KV82--7xsh__B2_K1KV82\n"
     ]
    },
    {
     "name": "stderr",
     "output_type": "stream",
     "text": [
      " 32%|████████████████████████████████████████████████████████████████▌                                                                                                                                           | 57/180 [00:23<00:44,  2.73it/s]"
     ]
    },
    {
     "name": "stdout",
     "output_type": "stream",
     "text": [
      "8v14__A1_G5EEF9--8v14__B1_G5EEF9\n"
     ]
    },
    {
     "name": "stderr",
     "output_type": "stream",
     "text": [
      " 32%|█████████████████████████████████████████████████████████████████▋                                                                                                                                          | 58/180 [00:23<00:52,  2.33it/s]"
     ]
    },
    {
     "name": "stdout",
     "output_type": "stream",
     "text": [
      "7s6n__B1_Q5RGJ8--7s6n__A1_Q5RGJ8\n"
     ]
    },
    {
     "name": "stderr",
     "output_type": "stream",
     "text": [
      " 33%|██████████████████████████████████████████████████████████████████▊                                                                                                                                         | 59/180 [00:24<00:51,  2.36it/s]"
     ]
    },
    {
     "name": "stdout",
     "output_type": "stream",
     "text": [
      "8iev__A1_Q0PAW2--8iev__B1_Q0PAW2\n"
     ]
    },
    {
     "name": "stderr",
     "output_type": "stream",
     "text": [
      " 34%|█████████████████████████████████████████████████████████████████████▏                                                                                                                                      | 61/180 [00:24<00:34,  3.41it/s]"
     ]
    },
    {
     "name": "stdout",
     "output_type": "stream",
     "text": [
      "7unh__A1_UNDEFINED--7unh__B1_UNDEFINED\n",
      "8tto__A1_UNDEFINED--8tto__B1_UNDEFINED\n"
     ]
    },
    {
     "name": "stderr",
     "output_type": "stream",
     "text": [
      " 34%|██████████████████████████████████████████████████████████████████████▎                                                                                                                                     | 62/180 [00:25<00:49,  2.36it/s]"
     ]
    },
    {
     "name": "stdout",
     "output_type": "stream",
     "text": [
      "8a60__A1_P06971--8a60__B1_Q38162\n"
     ]
    },
    {
     "name": "stderr",
     "output_type": "stream",
     "text": [
      " 35%|███████████████████████████████████████████████████████████████████████▍                                                                                                                                    | 63/180 [00:25<00:44,  2.61it/s]"
     ]
    },
    {
     "name": "stdout",
     "output_type": "stream",
     "text": [
      "7pvh__A1_B2RLE7--7pvh__B1_B2RLE7\n"
     ]
    },
    {
     "name": "stderr",
     "output_type": "stream",
     "text": [
      " 36%|████████████████████████████████████████████████████████████████████████▌                                                                                                                                   | 64/180 [00:25<00:39,  2.95it/s]"
     ]
    },
    {
     "name": "stdout",
     "output_type": "stream",
     "text": [
      "7nli__B1_P08405--7nli__A1_P08405\n"
     ]
    },
    {
     "name": "stderr",
     "output_type": "stream",
     "text": [
      "2024-07-18 22:02:20,990 | pinder.core.loader.filters:407 | WARNING : Skipping FilterSubRmsds on 8a0c__A1_Q2ERG0--8a0c__B1_Q2ERG0 as holo monomers have been filtered out\n",
      " 37%|██████████████████████████████████████████████████████████████████████████▊                                                                                                                                 | 66/180 [00:27<01:00,  1.88it/s]"
     ]
    },
    {
     "name": "stdout",
     "output_type": "stream",
     "text": [
      "8j51__A1_A0A0E9MUN5--8j51__B1_A0A0E9MUN5\n"
     ]
    },
    {
     "name": "stderr",
     "output_type": "stream",
     "text": [
      " 37%|███████████████████████████████████████████████████████████████████████████▉                                                                                                                                | 67/180 [00:27<00:54,  2.07it/s]"
     ]
    },
    {
     "name": "stdout",
     "output_type": "stream",
     "text": [
      "8pz3__A1_D7SFB8--8pz3__B1_D7SFB8\n"
     ]
    },
    {
     "name": "stderr",
     "output_type": "stream",
     "text": [
      " 38%|██████████████████████████████████████████████████████████████████████████████▏                                                                                                                             | 69/180 [00:27<00:36,  3.06it/s]"
     ]
    },
    {
     "name": "stdout",
     "output_type": "stream",
     "text": [
      "7unj__A1_UNDEFINED--7unj__B1_UNDEFINED\n",
      "7uav__A1_P0DW58--7uav__B1_P0DW58\n"
     ]
    },
    {
     "name": "stderr",
     "output_type": "stream",
     "text": [
      " 39%|███████████████████████████████████████████████████████████████████████████████▎                                                                                                                            | 70/180 [00:28<00:39,  2.78it/s]"
     ]
    },
    {
     "name": "stdout",
     "output_type": "stream",
     "text": [
      "7vrx__D1_A0A6J4AG16--7vrx__B1_A0A6J4AG16\n"
     ]
    },
    {
     "name": "stderr",
     "output_type": "stream",
     "text": [
      " 39%|████████████████████████████████████████████████████████████████████████████████▍                                                                                                                           | 71/180 [00:28<00:45,  2.41it/s]"
     ]
    },
    {
     "name": "stdout",
     "output_type": "stream",
     "text": [
      "7t5y__A1_P0A7E1--7t5y__B1_P0A7E1\n"
     ]
    },
    {
     "name": "stderr",
     "output_type": "stream",
     "text": [
      " 40%|█████████████████████████████████████████████████████████████████████████████████▌                                                                                                                          | 72/180 [00:29<00:43,  2.46it/s]"
     ]
    },
    {
     "name": "stdout",
     "output_type": "stream",
     "text": [
      "7yn1__A1_E9JES9--7yn1__C1_E9JES9\n"
     ]
    },
    {
     "name": "stderr",
     "output_type": "stream",
     "text": [
      " 41%|██████████████████████████████████████████████████████████████████████████████████▋                                                                                                                         | 73/180 [00:29<00:37,  2.83it/s]"
     ]
    },
    {
     "name": "stdout",
     "output_type": "stream",
     "text": [
      "8p33__A1_O51254--8p33__A2_O51254\n"
     ]
    },
    {
     "name": "stderr",
     "output_type": "stream",
     "text": [
      " 41%|███████████████████████████████████████████████████████████████████████████████████▊                                                                                                                        | 74/180 [00:30<00:59,  1.78it/s]"
     ]
    },
    {
     "name": "stdout",
     "output_type": "stream",
     "text": [
      "8ttz__A1_G8E2R2--8ttz__B2_G8E2R2\n"
     ]
    },
    {
     "name": "stderr",
     "output_type": "stream",
     "text": [
      " 42%|█████████████████████████████████████████████████████████████████████████████████████                                                                                                                       | 75/180 [00:30<00:48,  2.17it/s]"
     ]
    },
    {
     "name": "stdout",
     "output_type": "stream",
     "text": [
      "7vrc__A1_P38956--7vrc__B1_P22082\n"
     ]
    },
    {
     "name": "stderr",
     "output_type": "stream",
     "text": [
      " 42%|██████████████████████████████████████████████████████████████████████████████████████▏                                                                                                                     | 76/180 [00:31<00:49,  2.08it/s]"
     ]
    },
    {
     "name": "stdout",
     "output_type": "stream",
     "text": [
      "8p4l__A1_UNDEFINED--8p4l__B1_UNDEFINED\n"
     ]
    },
    {
     "name": "stderr",
     "output_type": "stream",
     "text": [
      " 43%|███████████████████████████████████████████████████████████████████████████████████████▎                                                                                                                    | 77/180 [00:31<00:42,  2.43it/s]"
     ]
    },
    {
     "name": "stdout",
     "output_type": "stream",
     "text": [
      "8p6k__A1_A0A0H2UWN1--8p6k__B1_A0A0H2UWN1\n"
     ]
    },
    {
     "name": "stderr",
     "output_type": "stream",
     "text": [
      " 43%|████████████████████████████████████████████████████████████████████████████████████████▍                                                                                                                   | 78/180 [00:31<00:38,  2.62it/s]"
     ]
    },
    {
     "name": "stdout",
     "output_type": "stream",
     "text": [
      "8jmq__A1_A9CQD5--8jmq__B1_A9CQD3\n"
     ]
    },
    {
     "name": "stderr",
     "output_type": "stream",
     "text": [
      " 44%|█████████████████████████████████████████████████████████████████████████████████████████▌                                                                                                                  | 79/180 [00:32<00:49,  2.06it/s]"
     ]
    },
    {
     "name": "stdout",
     "output_type": "stream",
     "text": [
      "7zgn__A1_U6RE59--7zgn__B1_U6RE59\n"
     ]
    },
    {
     "name": "stderr",
     "output_type": "stream",
     "text": [
      " 44%|██████████████████████████████████████████████████████████████████████████████████████████▋                                                                                                                 | 80/180 [00:33<00:59,  1.68it/s]"
     ]
    },
    {
     "name": "stdout",
     "output_type": "stream",
     "text": [
      "7fiw__A1_B3CP63--7fiw__B1_Q73HD5\n"
     ]
    },
    {
     "name": "stderr",
     "output_type": "stream",
     "text": [
      " 45%|███████████████████████████████████████████████████████████████████████████████████████████▊                                                                                                                | 81/180 [00:34<01:04,  1.53it/s]"
     ]
    },
    {
     "name": "stdout",
     "output_type": "stream",
     "text": [
      "8oru__A1_O93732--8oru__B1_O93732\n"
     ]
    },
    {
     "name": "stderr",
     "output_type": "stream",
     "text": [
      " 46%|██████████████████████████████████████████████████████████████████████████████████████████████                                                                                                              | 83/180 [00:34<00:44,  2.18it/s]"
     ]
    },
    {
     "name": "stdout",
     "output_type": "stream",
     "text": [
      "8ori__A1_Q2KB35--8ori__B1_Q2KB35\n",
      "8hhj__B1_UNDEFINED--8hhj__A1_A0A0Y5KAW3\n"
     ]
    },
    {
     "name": "stderr",
     "output_type": "stream",
     "text": [
      " 47%|███████████████████████████████████████████████████████████████████████████████████████████████▏                                                                                                            | 84/180 [00:35<00:41,  2.31it/s]"
     ]
    },
    {
     "name": "stdout",
     "output_type": "stream",
     "text": [
      "8d0x__A1_Q9Y231--8d0x__A2_Q9Y231\n"
     ]
    },
    {
     "name": "stderr",
     "output_type": "stream",
     "text": [
      " 48%|█████████████████████████████████████████████████████████████████████████████████████████████████▍                                                                                                          | 86/180 [00:35<00:30,  3.07it/s]"
     ]
    },
    {
     "name": "stdout",
     "output_type": "stream",
     "text": [
      "8bp5__B1_A0A369SI82--8bp5__A1_A0A369SI82\n",
      "8d03__A1_UNDEFINED--8d03__A2_UNDEFINED\n"
     ]
    },
    {
     "name": "stderr",
     "output_type": "stream",
     "text": [
      " 48%|██████████████████████████████████████████████████████████████████████████████████████████████████▌                                                                                                         | 87/180 [00:35<00:24,  3.73it/s]"
     ]
    },
    {
     "name": "stdout",
     "output_type": "stream",
     "text": [
      "8d04__B1_UNDEFINED--8d04__A1_UNDEFINED\n"
     ]
    },
    {
     "name": "stderr",
     "output_type": "stream",
     "text": [
      " 49%|███████████████████████████████████████████████████████████████████████████████████████████████████▋                                                                                                        | 88/180 [00:36<00:29,  3.16it/s]"
     ]
    },
    {
     "name": "stdout",
     "output_type": "stream",
     "text": [
      "7z6m__A1_A0A0H3LM39--7z6m__A2_A0A0H3LM39\n"
     ]
    },
    {
     "name": "stderr",
     "output_type": "stream",
     "text": [
      " 49%|████████████████████████████████████████████████████████████████████████████████████████████████████▊                                                                                                       | 89/180 [00:36<00:30,  3.03it/s]"
     ]
    },
    {
     "name": "stdout",
     "output_type": "stream",
     "text": [
      "8cnx__A1_Q68T42--8cnx__B1_Q68T42\n"
     ]
    },
    {
     "name": "stderr",
     "output_type": "stream",
     "text": [
      " 51%|███████████████████████████████████████████████████████████████████████████████████████████████████████▏                                                                                                    | 91/180 [00:37<00:24,  3.65it/s]"
     ]
    },
    {
     "name": "stdout",
     "output_type": "stream",
     "text": [
      "7wwo__B1_Q5SH57--7wwo__A1_Q5SH57\n",
      "7tjl__A1_UNDEFINED--7tjl__A2_UNDEFINED\n"
     ]
    },
    {
     "name": "stderr",
     "output_type": "stream",
     "text": [
      " 52%|█████████████████████████████████████████████████████████████████████████████████████████████████████████▍                                                                                                  | 93/180 [00:37<00:24,  3.55it/s]"
     ]
    },
    {
     "name": "stdout",
     "output_type": "stream",
     "text": [
      "8d0m__A1_P28907--8d0m__A2_P28907\n",
      "8fin__A1_UNDEFINED--8fin__B1_UNDEFINED\n"
     ]
    },
    {
     "name": "stderr",
     "output_type": "stream",
     "text": [
      " 52%|██████████████████████████████████████████████████████████████████████████████████████████████████████████▌                                                                                                 | 94/180 [00:38<00:25,  3.32it/s]"
     ]
    },
    {
     "name": "stdout",
     "output_type": "stream",
     "text": [
      "7wwf__A1_A0R6Y0--7wwf__B1_A0R6Y0\n"
     ]
    },
    {
     "name": "stderr",
     "output_type": "stream",
     "text": [
      " 53%|████████████████████████████████████████████████████████████████████████████████████████████████████████████▊                                                                                               | 96/180 [00:38<00:21,  3.94it/s]"
     ]
    },
    {
     "name": "stdout",
     "output_type": "stream",
     "text": [
      "8aa9__A1_Q9V1Y9--8aa9__B1_Q9V1Y9\n",
      "8hdv__A1_UNDEFINED--8hdv__B1_UNDEFINED\n"
     ]
    },
    {
     "name": "stderr",
     "output_type": "stream",
     "text": [
      " 54%|█████████████████████████████████████████████████████████████████████████████████████████████████████████████▉                                                                                              | 97/180 [00:38<00:21,  3.81it/s]"
     ]
    },
    {
     "name": "stdout",
     "output_type": "stream",
     "text": [
      "7f4q__B1_Q22GC0--7f4q__A1_I7M8B9\n",
      "7xgs__A1_Q9FVC1--7xgs__A2_Q9FVC1\n"
     ]
    },
    {
     "name": "stderr",
     "output_type": "stream",
     "text": [
      " 55%|████████████████████████████████████████████████████████████████████████████████████████████████████████████████▏                                                                                           | 99/180 [00:39<00:20,  4.03it/s]"
     ]
    },
    {
     "name": "stdout",
     "output_type": "stream",
     "text": [
      "8hfp__B1_Q96T68--8hfp__A1_Q8N8R7\n"
     ]
    },
    {
     "name": "stderr",
     "output_type": "stream",
     "text": [
      " 56%|████████████████████████████████████████████████████████████████████████████████████████████████████████████████▊                                                                                          | 100/180 [00:39<00:19,  4.08it/s]"
     ]
    },
    {
     "name": "stdout",
     "output_type": "stream",
     "text": [
      "8avu__A1_Q8GPI4--8avu__A2_Q8GPI4\n"
     ]
    },
    {
     "name": "stderr",
     "output_type": "stream",
     "text": [
      " 56%|█████████████████████████████████████████████████████████████████████████████████████████████████████████████████▉                                                                                         | 101/180 [00:39<00:21,  3.69it/s]"
     ]
    },
    {
     "name": "stdout",
     "output_type": "stream",
     "text": [
      "8i2e__A1_O34841--8i2e__B1_P54421\n"
     ]
    },
    {
     "name": "stderr",
     "output_type": "stream",
     "text": [
      " 57%|███████████████████████████████████████████████████████████████████████████████████████████████████████████████████                                                                                        | 102/180 [00:40<00:20,  3.89it/s]"
     ]
    },
    {
     "name": "stdout",
     "output_type": "stream",
     "text": [
      "7rmx__A1_UNDEFINED--7rmx__A2_UNDEFINED\n"
     ]
    },
    {
     "name": "stderr",
     "output_type": "stream",
     "text": [
      " 58%|█████████████████████████████████████████████████████████████████████████████████████████████████████████████████████▎                                                                                     | 104/180 [00:40<00:17,  4.38it/s]"
     ]
    },
    {
     "name": "stdout",
     "output_type": "stream",
     "text": [
      "8ji6__A1_A0A861B387--8ji6__B1_A0A861B387\n",
      "8d05__A1_UNDEFINED--8d05__A2_UNDEFINED\n"
     ]
    },
    {
     "name": "stderr",
     "output_type": "stream",
     "text": [
      " 58%|██████████████████████████████████████████████████████████████████████████████████████████████████████████████████████▍                                                                                    | 105/180 [00:40<00:24,  3.05it/s]"
     ]
    },
    {
     "name": "stdout",
     "output_type": "stream",
     "text": [
      "8h1l__B1_A0A7U4E834--8h1l__A1_A0A7U4E834\n"
     ]
    },
    {
     "name": "stderr",
     "output_type": "stream",
     "text": [
      " 59%|███████████████████████████████████████████████████████████████████████████████████████████████████████████████████████▌                                                                                   | 106/180 [00:41<00:28,  2.57it/s]"
     ]
    },
    {
     "name": "stdout",
     "output_type": "stream",
     "text": [
      "7z98__A1_E6V140--7z98__A2_E6V140\n"
     ]
    },
    {
     "name": "stderr",
     "output_type": "stream",
     "text": [
      " 59%|████████████████████████████████████████████████████████████████████████████████████████████████████████████████████████▋                                                                                  | 107/180 [00:41<00:24,  2.97it/s]"
     ]
    },
    {
     "name": "stdout",
     "output_type": "stream",
     "text": [
      "8h1i__A1_W6EBY7--8h1i__B1_P0A9Y6\n"
     ]
    },
    {
     "name": "stderr",
     "output_type": "stream",
     "text": [
      " 61%|██████████████████████████████████████████████████████████████████████████████████████████████████████████████████████████▉                                                                                | 109/180 [00:42<00:28,  2.51it/s]"
     ]
    },
    {
     "name": "stdout",
     "output_type": "stream",
     "text": [
      "7vt9__A1_P21517--7vt9__B1_P21517\n"
     ]
    },
    {
     "name": "stderr",
     "output_type": "stream",
     "text": [
      " 61%|████████████████████████████████████████████████████████████████████████████████████████████████████████████████████████████                                                                               | 110/180 [00:42<00:24,  2.89it/s]"
     ]
    },
    {
     "name": "stdout",
     "output_type": "stream",
     "text": [
      "7pjo__B1_UNDEFINED--7pjo__A1_UNDEFINED\n"
     ]
    },
    {
     "name": "stderr",
     "output_type": "stream",
     "text": [
      " 62%|█████████████████████████████████████████████████████████████████████████████████████████████████████████████████████████████▏                                                                             | 111/180 [00:43<00:22,  3.02it/s]"
     ]
    },
    {
     "name": "stdout",
     "output_type": "stream",
     "text": [
      "8aeu__A1_Q00987--8aeu__A2_Q00987\n"
     ]
    },
    {
     "name": "stderr",
     "output_type": "stream",
     "text": [
      " 62%|██████████████████████████████████████████████████████████████████████████████████████████████████████████████████████████████▎                                                                            | 112/180 [00:43<00:21,  3.19it/s]"
     ]
    },
    {
     "name": "stdout",
     "output_type": "stream",
     "text": [
      "8a14__A1_A0A0D1E4Q7--8a14__C2_A0A0D1E4Q7\n"
     ]
    },
    {
     "name": "stderr",
     "output_type": "stream",
     "text": [
      " 63%|███████████████████████████████████████████████████████████████████████████████████████████████████████████████████████████████▍                                                                           | 113/180 [00:43<00:21,  3.06it/s]"
     ]
    },
    {
     "name": "stdout",
     "output_type": "stream",
     "text": [
      "8oik__A1_Q9UPU9--8oik__C1_Q9UPU9\n"
     ]
    },
    {
     "name": "stderr",
     "output_type": "stream",
     "text": [
      " 63%|████████████████████████████████████████████████████████████████████████████████████████████████████████████████████████████████▌                                                                          | 114/180 [00:44<00:22,  2.94it/s]"
     ]
    },
    {
     "name": "stdout",
     "output_type": "stream",
     "text": [
      "7wrs__A1_Q5ZJ86--7wrs__B1_UNDEFINED\n"
     ]
    },
    {
     "name": "stderr",
     "output_type": "stream",
     "text": [
      " 64%|█████████████████████████████████████████████████████████████████████████████████████████████████████████████████████████████████▋                                                                         | 115/180 [00:44<00:21,  2.97it/s]"
     ]
    },
    {
     "name": "stdout",
     "output_type": "stream",
     "text": [
      "8q70__A1_Q8U2C1--8q70__A2_Q8U2C1\n"
     ]
    },
    {
     "name": "stderr",
     "output_type": "stream",
     "text": [
      " 65%|███████████████████████████████████████████████████████████████████████████████████████████████████████████████████████████████████▉                                                                       | 117/180 [00:45<00:18,  3.43it/s]"
     ]
    },
    {
     "name": "stdout",
     "output_type": "stream",
     "text": [
      "7vso__A1_P02945--7vso__A2_P02945\n",
      "8i8y__B1_UNDEFINED--8i8y__A1_UNDEFINED\n"
     ]
    },
    {
     "name": "stderr",
     "output_type": "stream",
     "text": [
      " 66%|█████████████████████████████████████████████████████████████████████████████████████████████████████████████████████████████████████                                                                      | 118/180 [00:45<00:17,  3.58it/s]"
     ]
    },
    {
     "name": "stdout",
     "output_type": "stream",
     "text": [
      "8smq__A1_Q182N1--8smq__B1_Q182N1\n"
     ]
    },
    {
     "name": "stderr",
     "output_type": "stream",
     "text": [
      " 66%|██████████████████████████████████████████████████████████████████████████████████████████████████████████████████████████████████████▏                                                                    | 119/180 [00:45<00:16,  3.73it/s]"
     ]
    },
    {
     "name": "stdout",
     "output_type": "stream",
     "text": [
      "7n1j__A1_P22455--7n1j__B1_UNDEFINED\n"
     ]
    },
    {
     "name": "stderr",
     "output_type": "stream",
     "text": [
      " 67%|███████████████████████████████████████████████████████████████████████████████████████████████████████████████████████████████████████▎                                                                   | 120/180 [00:46<00:17,  3.44it/s]"
     ]
    },
    {
     "name": "stdout",
     "output_type": "stream",
     "text": [
      "8i85__A1_D2B3F1--8i85__B1_D2B3F1\n"
     ]
    },
    {
     "name": "stderr",
     "output_type": "stream",
     "text": [
      " 67%|████████████████████████████████████████████████████████████████████████████████████████████████████████████████████████████████████████▍                                                                  | 121/180 [00:46<00:17,  3.29it/s]"
     ]
    },
    {
     "name": "stdout",
     "output_type": "stream",
     "text": [
      "7yuj__B1_Q9BYM8--7yuj__A1_Q9BYM8\n"
     ]
    },
    {
     "name": "stderr",
     "output_type": "stream",
     "text": [
      " 68%|██████████████████████████████████████████████████████████████████████████████████████████████████████████████████████████████████████████▋                                                                | 123/180 [00:46<00:13,  4.30it/s]"
     ]
    },
    {
     "name": "stdout",
     "output_type": "stream",
     "text": [
      "7zcl__B1_UNDEFINED--7zcl__A1_UNDEFINED\n",
      "7skp__B1_UNDEFINED--7skp__A1_UNDEFINED\n"
     ]
    },
    {
     "name": "stderr",
     "output_type": "stream",
     "text": [
      " 69%|███████████████████████████████████████████████████████████████████████████████████████████████████████████████████████████████████████████▊                                                               | 124/180 [00:46<00:11,  4.74it/s]"
     ]
    },
    {
     "name": "stdout",
     "output_type": "stream",
     "text": [
      "7xl7__A1_A0A2J0R8J6--7xl7__B1_A0A2J0R8J6\n"
     ]
    },
    {
     "name": "stderr",
     "output_type": "stream",
     "text": [
      " 69%|████████████████████████████████████████████████████████████████████████████████████████████████████████████████████████████████████████████▉                                                              | 125/180 [00:47<00:14,  3.86it/s]"
     ]
    },
    {
     "name": "stdout",
     "output_type": "stream",
     "text": [
      "7tn6__A1_Q84Y01--7tn6__A2_Q84Y01\n"
     ]
    },
    {
     "name": "stderr",
     "output_type": "stream",
     "text": [
      " 71%|███████████████████████████████████████████████████████████████████████████████████████████████████████████████████████████████████████████████▏                                                           | 127/180 [00:47<00:15,  3.38it/s]"
     ]
    },
    {
     "name": "stdout",
     "output_type": "stream",
     "text": [
      "8vc5__A1_Q9XCL6--8vc5__B1_Q9XCL6\n",
      "8ant__B1_A0A1P8CWW1--8ant__A1_A0A1P8CWW1\n"
     ]
    },
    {
     "name": "stderr",
     "output_type": "stream",
     "text": [
      " 71%|████████████████████████████████████████████████████████████████████████████████████████████████████████████████████████████████████████████████▎                                                          | 128/180 [00:48<00:19,  2.73it/s]"
     ]
    },
    {
     "name": "stdout",
     "output_type": "stream",
     "text": [
      "7r5y__E2_R7PD89--7r5y__A1_R7PD89\n"
     ]
    },
    {
     "name": "stderr",
     "output_type": "stream",
     "text": [
      " 72%|█████████████████████████████████████████████████████████████████████████████████████████████████████████████████████████████████████████████████▍                                                         | 129/180 [00:49<00:28,  1.81it/s]"
     ]
    },
    {
     "name": "stdout",
     "output_type": "stream",
     "text": [
      "8pvm__A1_P29166--8pvm__B1_P29166\n"
     ]
    },
    {
     "name": "stderr",
     "output_type": "stream",
     "text": [
      " 72%|██████████████████████████████████████████████████████████████████████████████████████████████████████████████████████████████████████████████████▌                                                        | 130/180 [00:49<00:23,  2.12it/s]"
     ]
    },
    {
     "name": "stdout",
     "output_type": "stream",
     "text": [
      "7yo8__A1_P60520--7yo8__A2_P60520\n"
     ]
    },
    {
     "name": "stderr",
     "output_type": "stream",
     "text": [
      " 73%|███████████████████████████████████████████████████████████████████████████████████████████████████████████████████████████████████████████████████▋                                                       | 131/180 [00:50<00:21,  2.29it/s]"
     ]
    },
    {
     "name": "stdout",
     "output_type": "stream",
     "text": [
      "8gk6__A1_W6USS8--8gk6__E1_W6USS8\n"
     ]
    },
    {
     "name": "stderr",
     "output_type": "stream",
     "text": [
      " 73%|████████████████████████████████████████████████████████████████████████████████████████████████████████████████████████████████████████████████████▊                                                      | 132/180 [00:50<00:24,  2.00it/s]"
     ]
    },
    {
     "name": "stdout",
     "output_type": "stream",
     "text": [
      "7yj0__B1_UNDEFINED--7yj0__A1_UNDEFINED\n"
     ]
    },
    {
     "name": "stderr",
     "output_type": "stream",
     "text": [
      " 74%|█████████████████████████████████████████████████████████████████████████████████████████████████████████████████████████████████████████████████████▉                                                     | 133/180 [00:50<00:19,  2.41it/s]"
     ]
    },
    {
     "name": "stdout",
     "output_type": "stream",
     "text": [
      "7yji__A1_UNDEFINED--7yji__A2_UNDEFINED\n"
     ]
    },
    {
     "name": "stderr",
     "output_type": "stream",
     "text": [
      " 74%|███████████████████████████████████████████████████████████████████████████████████████████████████████████████████████████████████████████████████████                                                    | 134/180 [00:51<00:16,  2.75it/s]"
     ]
    },
    {
     "name": "stdout",
     "output_type": "stream",
     "text": [
      "8tn8__B1_A0A482N9T7--8tn8__A1_A0A482N9T7\n"
     ]
    },
    {
     "name": "stderr",
     "output_type": "stream",
     "text": [
      " 75%|████████████████████████████████████████████████████████████████████████████████████████████████████████████████████████████████████████████████████████▎                                                  | 135/180 [00:51<00:16,  2.70it/s]"
     ]
    },
    {
     "name": "stdout",
     "output_type": "stream",
     "text": [
      "7spq__A1_C5AMM8--7spq__A2_C5AMM8\n"
     ]
    },
    {
     "name": "stderr",
     "output_type": "stream",
     "text": [
      " 76%|█████████████████████████████████████████████████████████████████████████████████████████████████████████████████████████████████████████████████████████▍                                                 | 136/180 [00:52<00:18,  2.34it/s]"
     ]
    },
    {
     "name": "stdout",
     "output_type": "stream",
     "text": [
      "7spn__A1_A0A7C2VFT1--7spn__B1_A0A7C2VFT1\n"
     ]
    },
    {
     "name": "stderr",
     "output_type": "stream",
     "text": [
      " 76%|██████████████████████████████████████████████████████████████████████████████████████████████████████████████████████████████████████████████████████████▌                                                | 137/180 [00:52<00:17,  2.42it/s]"
     ]
    },
    {
     "name": "stdout",
     "output_type": "stream",
     "text": [
      "7y51__A1_Q8RBF4--7y51__A2_Q8RBF4\n"
     ]
    },
    {
     "name": "stderr",
     "output_type": "stream",
     "text": [
      " 77%|███████████████████████████████████████████████████████████████████████████████████████████████████████████████████████████████████████████████████████████▋                                               | 138/180 [00:52<00:16,  2.59it/s]"
     ]
    },
    {
     "name": "stdout",
     "output_type": "stream",
     "text": [
      "7tvh__B1_Q9I2Q1--7tvh__A1_Q9I2Q1\n"
     ]
    },
    {
     "name": "stderr",
     "output_type": "stream",
     "text": [
      " 77%|████████████████████████████████████████████████████████████████████████████████████████████████████████████████████████████████████████████████████████████▊                                              | 139/180 [00:53<00:13,  2.98it/s]"
     ]
    },
    {
     "name": "stdout",
     "output_type": "stream",
     "text": [
      "7tvm__A1_UNDEFINED--7tvm__B1_UNDEFINED\n"
     ]
    },
    {
     "name": "stderr",
     "output_type": "stream",
     "text": [
      " 78%|█████████████████████████████████████████████████████████████████████████████████████████████████████████████████████████████████████████████████████████████▉                                             | 140/180 [00:53<00:15,  2.50it/s]"
     ]
    },
    {
     "name": "stdout",
     "output_type": "stream",
     "text": [
      "8in9__A1_E0D202--8in9__B1_E0D202\n"
     ]
    },
    {
     "name": "stderr",
     "output_type": "stream",
     "text": [
      " 78%|███████████████████████████████████████████████████████████████████████████████████████████████████████████████████████████████████████████████████████████████                                            | 141/180 [00:54<00:20,  1.87it/s]"
     ]
    },
    {
     "name": "stdout",
     "output_type": "stream",
     "text": [
      "8bxl__A1_A0A075TRK9--8bxl__D1_A0A075TRK9\n"
     ]
    },
    {
     "name": "stderr",
     "output_type": "stream",
     "text": [
      " 79%|█████████████████████████████████████████████████████████████████████████████████████████████████████████████████████████████████████████████████████████████████▎                                         | 143/180 [00:54<00:13,  2.69it/s]"
     ]
    },
    {
     "name": "stdout",
     "output_type": "stream",
     "text": [
      "7udi__B1_Q9RYE6--7udi__A1_Q9RYE6\n"
     ]
    },
    {
     "name": "stderr",
     "output_type": "stream",
     "text": [
      " 81%|███████████████████████████████████████████████████████████████████████████████████████████████████████████████████████████████████████████████████████████████████▌                                       | 145/180 [00:55<00:10,  3.21it/s]"
     ]
    },
    {
     "name": "stdout",
     "output_type": "stream",
     "text": [
      "8iw5__A1_Q8C8U0--8iw5__B1_Q8C8U0\n"
     ]
    },
    {
     "name": "stderr",
     "output_type": "stream",
     "text": [
      " 82%|█████████████████████████████████████████████████████████████████████████████████████████████████████████████████████████████████████████████████████████████████████▊                                     | 147/180 [00:55<00:08,  3.76it/s]"
     ]
    },
    {
     "name": "stdout",
     "output_type": "stream",
     "text": [
      "8bwv__D2_A0A482M8M0--8bwv__A1_A0A482M8M0\n"
     ]
    },
    {
     "name": "stderr",
     "output_type": "stream",
     "text": [
      " 82%|██████████████████████████████████████████████████████████████████████████████████████████████████████████████████████████████████████████████████████████████████████▉                                    | 148/180 [00:56<00:08,  3.66it/s]"
     ]
    },
    {
     "name": "stdout",
     "output_type": "stream",
     "text": [
      "7t91__A1_P08151--7t91__B1_P08151\n"
     ]
    },
    {
     "name": "stderr",
     "output_type": "stream",
     "text": [
      " 83%|████████████████████████████████████████████████████████████████████████████████████████████████████████████████████████████████████████████████████████████████████████                                   | 149/180 [00:56<00:08,  3.50it/s]"
     ]
    },
    {
     "name": "stdout",
     "output_type": "stream",
     "text": [
      "8a82__A1_K7WEY7--8a82__B1_K7XCU4\n"
     ]
    },
    {
     "name": "stderr",
     "output_type": "stream",
     "text": [
      " 84%|██████████████████████████████████████████████████████████████████████████████████████████████████████████████████████████████████████████████████████████████████████████▎                                | 151/180 [00:56<00:06,  4.37it/s]"
     ]
    },
    {
     "name": "stdout",
     "output_type": "stream",
     "text": [
      "8ajq__A1_Q9I0C0--8ajq__B1_Q9I0C0\n",
      "7px2__A1_UNDEFINED--7px2__B1_UNDEFINED\n"
     ]
    },
    {
     "name": "stderr",
     "output_type": "stream",
     "text": [
      " 84%|███████████████████████████████████████████████████████████████████████████████████████████████████████████████████████████████████████████████████████████████████████████▍                               | 152/180 [00:57<00:07,  3.64it/s]"
     ]
    },
    {
     "name": "stdout",
     "output_type": "stream",
     "text": [
      "7duc__B1_Q2G2U4--7duc__A1_Q2G2U4\n"
     ]
    },
    {
     "name": "stderr",
     "output_type": "stream",
     "text": [
      " 85%|████████████████████████████████████████████████████████████████████████████████████████████████████████████████████████████████████████████████████████████████████████████▌                              | 153/180 [00:57<00:06,  3.89it/s]"
     ]
    },
    {
     "name": "stdout",
     "output_type": "stream",
     "text": [
      "8d4w__A1_A0A8B4R830--8d4w__A2_A0A8B4R830\n"
     ]
    },
    {
     "name": "stderr",
     "output_type": "stream",
     "text": [
      " 86%|█████████████████████████████████████████████████████████████████████████████████████████████████████████████████████████████████████████████████████████████████████████████▋                             | 154/180 [00:57<00:06,  3.96it/s]"
     ]
    },
    {
     "name": "stdout",
     "output_type": "stream",
     "text": [
      "8ezg__A1_P01116--8ezg__B1_UNDEFINED\n"
     ]
    },
    {
     "name": "stderr",
     "output_type": "stream",
     "text": [
      " 86%|██████████████████████████████████████████████████████████████████████████████████████████████████████████████████████████████████████████████████████████████████████████████▊                            | 155/180 [00:58<00:10,  2.41it/s]"
     ]
    },
    {
     "name": "stdout",
     "output_type": "stream",
     "text": [
      "8a45__B1_B7V7R4--8a45__A1_B7V7R4\n"
     ]
    },
    {
     "name": "stderr",
     "output_type": "stream",
     "text": [
      " 87%|███████████████████████████████████████████████████████████████████████████████████████████████████████████████████████████████████████████████████████████████████████████████▉                           | 156/180 [00:58<00:09,  2.52it/s]"
     ]
    },
    {
     "name": "stdout",
     "output_type": "stream",
     "text": [
      "8ih4__A1_Q8WVV5--8ih4__B1_Q8WVV5\n"
     ]
    },
    {
     "name": "stderr",
     "output_type": "stream",
     "text": [
      " 88%|██████████████████████████████████████████████████████████████████████████████████████████████████████████████████████████████████████████████████████████████████████████████████▏                        | 158/180 [00:59<00:06,  3.44it/s]"
     ]
    },
    {
     "name": "stdout",
     "output_type": "stream",
     "text": [
      "8twd__C1_P0AEV1--8twd__A1_W8SRD3\n"
     ]
    },
    {
     "name": "stderr",
     "output_type": "stream",
     "text": [
      " 88%|███████████████████████████████████████████████████████████████████████████████████████████████████████████████████████████████████████████████████████████████████████████████████▎                       | 159/180 [00:59<00:05,  3.82it/s]"
     ]
    },
    {
     "name": "stdout",
     "output_type": "stream",
     "text": [
      "8u1j__A1_Q9RYE6--8u1j__A2_Q9RYE6\n"
     ]
    },
    {
     "name": "stderr",
     "output_type": "stream",
     "text": [
      " 89%|████████████████████████████████████████████████████████████████████████████████████████████████████████████████████████████████████████████████████████████████████████████████████▍                      | 160/180 [00:59<00:05,  3.70it/s]"
     ]
    },
    {
     "name": "stdout",
     "output_type": "stream",
     "text": [
      "7win__B1_Q9UIF8--7win__A1_Q9UIF8\n"
     ]
    },
    {
     "name": "stderr",
     "output_type": "stream",
     "text": [
      " 90%|██████████████████████████████████████████████████████████████████████████████████████████████████████████████████████████████████████████████████████████████████████████████████████▋                    | 162/180 [01:00<00:05,  3.32it/s]"
     ]
    },
    {
     "name": "stdout",
     "output_type": "stream",
     "text": [
      "8dye__A1_P31040--8dye__B1_Q5VUM1\n",
      "7vw1__B1_V5J1S8--7vw1__A1_V5J1S8\n"
     ]
    },
    {
     "name": "stderr",
     "output_type": "stream",
     "text": [
      " 91%|███████████████████████████████████████████████████████████████████████████████████████████████████████████████████████████████████████████████████████████████████████████████████████▊                   | 163/180 [01:00<00:05,  3.07it/s]"
     ]
    },
    {
     "name": "stdout",
     "output_type": "stream",
     "text": [
      "8ai1__B1_Q45595--8ai1__A1_Q45595\n"
     ]
    },
    {
     "name": "stderr",
     "output_type": "stream",
     "text": [
      " 91%|████████████████████████████████████████████████████████████████████████████████████████████████████████████████████████████████████████████████████████████████████████████████████████▉                  | 164/180 [01:01<00:04,  3.41it/s]"
     ]
    },
    {
     "name": "stdout",
     "output_type": "stream",
     "text": [
      "7xn2__A1_Q8YR38--7xn2__A2_Q8YR38\n"
     ]
    },
    {
     "name": "stderr",
     "output_type": "stream",
     "text": [
      " 92%|███████████████████████████████████████████████████████████████████████████████████████████████████████████████████████████████████████████████████████████████████████████████████████████▏               | 166/180 [01:01<00:03,  4.05it/s]"
     ]
    },
    {
     "name": "stdout",
     "output_type": "stream",
     "text": [
      "7zoo__B1_A0A979GQH9--7zoo__A1_A0A979GQH9\n",
      "7y6b__A1_A0A411GZY8--7y6b__B1_A0A411H025\n"
     ]
    },
    {
     "name": "stderr",
     "output_type": "stream",
     "text": [
      " 93%|█████████████████████████████████████████████████████████████████████████████████████████████████████████████████████████████████████████████████████████████████████████████████████████████▍             | 168/180 [01:02<00:03,  3.88it/s]"
     ]
    },
    {
     "name": "stdout",
     "output_type": "stream",
     "text": [
      "7fch__A1_O95256--7fch__C2_O95256\n"
     ]
    },
    {
     "name": "stderr",
     "output_type": "stream",
     "text": [
      " 94%|██████████████████████████████████████████████████████████████████████████████████████████████████████████████████████████████████████████████████████████████████████████████████████████████▌            | 169/180 [01:02<00:02,  3.90it/s]"
     ]
    },
    {
     "name": "stdout",
     "output_type": "stream",
     "text": [
      "8q4k__A1_O51180--8q4k__B1_O51180\n"
     ]
    },
    {
     "name": "stderr",
     "output_type": "stream",
     "text": [
      " 95%|████████████████████████████████████████████████████████████████████████████████████████████████████████████████████████████████████████████████████████████████████████████████████████████████▊          | 171/180 [01:02<00:02,  4.44it/s]"
     ]
    },
    {
     "name": "stdout",
     "output_type": "stream",
     "text": [
      "8gy0__A1_A0A8H4VHP2--8gy0__B1_A0A8H4VHP2\n"
     ]
    },
    {
     "name": "stderr",
     "output_type": "stream",
     "text": [
      " 96%|█████████████████████████████████████████████████████████████████████████████████████████████████████████████████████████████████████████████████████████████████████████████████████████████████▉         | 172/180 [01:02<00:01,  4.31it/s]"
     ]
    },
    {
     "name": "stdout",
     "output_type": "stream",
     "text": [
      "7x4b__A1_A0A2D0TCG3--7x4b__B1_A0A2D0TCG3\n"
     ]
    },
    {
     "name": "stderr",
     "output_type": "stream",
     "text": [
      " 96%|███████████████████████████████████████████████████████████████████████████████████████████████████████████████████████████████████████████████████████████████████████████████████████████████████        | 173/180 [01:03<00:01,  4.02it/s]"
     ]
    },
    {
     "name": "stdout",
     "output_type": "stream",
     "text": [
      "8gyz__B1_Q93ZE2--8gyz__A1_Q93ZE2\n"
     ]
    },
    {
     "name": "stderr",
     "output_type": "stream",
     "text": [
      " 97%|████████████████████████████████████████████████████████████████████████████████████████████████████████████████████████████████████████████████████████████████████████████████████████████████████▏      | 174/180 [01:03<00:02,  2.73it/s]"
     ]
    },
    {
     "name": "stdout",
     "output_type": "stream",
     "text": [
      "7wh0__A1_Q9U2E4--7wh0__B2_Q9U2E4\n"
     ]
    },
    {
     "name": "stderr",
     "output_type": "stream",
     "text": [
      " 97%|█████████████████████████████████████████████████████████████████████████████████████████████████████████████████████████████████████████████████████████████████████████████████████████████████████▎     | 175/180 [01:04<00:01,  3.06it/s]"
     ]
    },
    {
     "name": "stdout",
     "output_type": "stream",
     "text": [
      "8bbt__A1_A0A0B4VFQ3--8bbt__A2_A0A0B4VFQ3\n"
     ]
    },
    {
     "name": "stderr",
     "output_type": "stream",
     "text": [
      " 98%|██████████████████████████████████████████████████████████████████████████████████████████████████████████████████████████████████████████████████████████████████████████████████████████████████████▍    | 176/180 [01:04<00:01,  2.44it/s]"
     ]
    },
    {
     "name": "stdout",
     "output_type": "stream",
     "text": [
      "7qlr__A1_A0A1J1J928--7qlr__D2_A0A1J1J928\n"
     ]
    },
    {
     "name": "stderr",
     "output_type": "stream",
     "text": [
      " 98%|███████████████████████████████████████████████████████████████████████████████████████████████████████████████████████████████████████████████████████████████████████████████████████████████████████▌   | 177/180 [01:05<00:01,  2.41it/s]"
     ]
    },
    {
     "name": "stdout",
     "output_type": "stream",
     "text": [
      "8gy8__A1_Q8TZT0--8gy8__B1_Q8TZT0\n"
     ]
    },
    {
     "name": "stderr",
     "output_type": "stream",
     "text": [
      " 99%|████████████████████████████████████████████████████████████████████████████████████████████████████████████████████████████████████████████████████████████████████████████████████████████████████████▋  | 178/180 [01:05<00:00,  2.18it/s]"
     ]
    },
    {
     "name": "stdout",
     "output_type": "stream",
     "text": [
      "8idq__A1_A0A0B8MZ29--8idq__C1_A0A0B8MZ29\n"
     ]
    },
    {
     "name": "stderr",
     "output_type": "stream",
     "text": [
      " 99%|█████████████████████████████████████████████████████████████████████████████████████████████████████████████████████████████████████████████████████████████████████████████████████████████████████████▊ | 179/180 [01:05<00:00,  2.58it/s]"
     ]
    },
    {
     "name": "stdout",
     "output_type": "stream",
     "text": [
      "7th0__A1_P31667--7th0__A2_P31667\n"
     ]
    },
    {
     "name": "stderr",
     "output_type": "stream",
     "text": [
      "100%|███████████████████████████████████████████████████████████████████████████████████████████████████████████████████████████████████████████████████████████████████████████████████████████████████████████| 180/180 [01:06<00:00,  2.72it/s]"
     ]
    },
    {
     "name": "stdout",
     "output_type": "stream",
     "text": [
      "8hci__B1_A0A8T8BZJ9--8hci__A1_A0A8T8BZN3\n"
     ]
    },
    {
     "name": "stderr",
     "output_type": "stream",
     "text": [
      "\n"
     ]
    }
   ],
   "source": [
    "loaded_ids = []\n",
    "for dimer in loader.dimers:\n",
    "    print(dimer.entry.id)"
   ]
  },
  {
   "cell_type": "markdown",
   "id": "9a1cb330-7034-4522-9763-093993a1bb4e",
   "metadata": {},
   "source": [
    "## Loading a specific list of systems\n"
   ]
  },
  {
   "cell_type": "code",
   "execution_count": 4,
   "id": "77d0f734-508a-4b1e-a4f3-acb8590869a0",
   "metadata": {},
   "outputs": [
    {
     "name": "stderr",
     "output_type": "stream",
     "text": [
      "100%|███████████████████████████████████████████████████████████████████████████████████████████████████████████████████████████████████████████████████████████████████████████████████████████████████████████████| 2/2 [00:00<00:00,  2.07it/s]\n"
     ]
    },
    {
     "data": {
      "text/plain": [
       "set()"
      ]
     },
     "execution_count": 4,
     "metadata": {},
     "output_type": "execute_result"
    }
   ],
   "source": [
    "systems = [\n",
    "    \"1df0__A1_Q07009--1df0__B1_Q64537\",\n",
    "    \"117e__A1_P00817--117e__B1_P00817\",\n",
    "]\n",
    "\n",
    "loader.load_systems(systems)\n",
    "\n",
    "passing_ids = []\n",
    "for dimer in loader.dimers:\n",
    "    passing_ids.append(dimer.entry.id)\n",
    "\n",
    "systems_removed_by_filters = set(systems) - set(passing_ids)\n",
    "systems_removed_by_filters"
   ]
  },
  {
   "cell_type": "code",
   "execution_count": 5,
   "id": "3644c869-da61-4620-a054-2a3ad163f3f8",
   "metadata": {},
   "outputs": [
    {
     "data": {
      "text/plain": [
       "True"
      ]
     },
     "execution_count": 5,
     "metadata": {},
     "output_type": "execute_result"
    }
   ],
   "source": [
    "len(systems) == len(passing_ids)"
   ]
  },
  {
   "cell_type": "markdown",
   "id": "f25783fb-6f4d-4ace-8d4f-cbd6fbca76f1",
   "metadata": {},
   "source": [
    "## Parallel loading, or chunked serial loading via generators "
   ]
  },
  {
   "cell_type": "code",
   "execution_count": 6,
   "id": "0add6c66-f180-42cd-b9d7-4e51489e0f04",
   "metadata": {},
   "outputs": [
    {
     "name": "stderr",
     "output_type": "stream",
     "text": [
      "100%|███████████████████████████████████████████████████████████████████████████████████████████████████████████████████████████████████████████████████████████████████████████████████████████████████████████████| 2/2 [00:00<00:00,  2.08it/s]\n",
      "0it [00:00, ?it/s]\n",
      "  0%|                                                                                                                                                                                                                       | 0/2 [00:00<?, ?it/s]\u001b[A\n",
      " 50%|███████████████████████████████████████████████████████████████████████████████████████████████████████▌                                                                                                       | 1/2 [00:00<00:00,  1.72it/s]\u001b[A\n",
      "100%|███████████████████████████████████████████████████████████████████████████████████████████████████████████████████████████████████████████████████████████████████████████████████████████████████████████████| 2/2 [00:00<00:00,  2.14it/s]\u001b[A\n",
      "1it [00:00,  1.07it/s]\n"
     ]
    }
   ],
   "source": [
    "# Load individual systems \n",
    "from pinder.core import PinderSystem\n",
    "\n",
    "loader.load_systems(systems)\n",
    "loaded = loader.load(n_cpu=1, batch_size=1)\n",
    "for dimer in loaded:\n",
    "    assert isinstance(dimer, PinderSystem)\n",
    "    assert dimer.entry.id in systems\n",
    "    \n",
    "# Load in batches of systems\n",
    "loader.load_systems(systems)\n",
    "loaded = loader.load(n_cpu=1, batch_size=10)\n",
    "for batch in loaded:\n",
    "    dimer_list = list(batch)\n",
    "    assert isinstance(dimer_list[0], PinderSystem)\n",
    "    assert dimer_list[0].entry.id in systems\n",
    "\n",
    "\n"
   ]
  },
  {
   "cell_type": "markdown",
   "id": "5de9d527-ffe0-4b6d-96a7-c90c137a4eb0",
   "metadata": {},
   "source": [
    "### Optional Pinder writer\n",
    "\n",
    "Without defining a writer for the `PinderLoader`, the loaded systems are available as `PinderSystem` objects, containing the individual monomer `Structure` object instances. \n",
    "\n",
    "If you want to explicitly write the (potentially transformed) structure objects to a custom location or in a custom format (e.g. PDB, pickle, etc.), you can implement a subclass of `PinderWriterBase`. \n",
    "\n",
    "The default writer implements writing to PDB files (leveraging the `Structure.to_pdb` method on the structure objects). \n",
    "\n"
   ]
  },
  {
   "cell_type": "code",
   "execution_count": 7,
   "id": "6b653c61-cebd-4ace-baf8-a27f1e011466",
   "metadata": {},
   "outputs": [
    {
     "name": "stderr",
     "output_type": "stream",
     "text": [
      " 50%|███████████████████████████████████████████████████████████████████████████████████████████████████████▌                                                                                                       | 1/2 [00:00<00:00,  2.36it/s]"
     ]
    },
    {
     "name": "stdout",
     "output_type": "stream",
     "text": [
      "Nothing to yield, check /var/folders/tt/x223wxwj6dzg3vjjgc_6y5bm0000gn/T/tmp7e60rg04\n"
     ]
    },
    {
     "name": "stderr",
     "output_type": "stream",
     "text": [
      "100%|███████████████████████████████████████████████████████████████████████████████████████████████████████████████████████████████████████████████████████████████████████████████████████████████████████████████| 2/2 [00:00<00:00,  2.87it/s]"
     ]
    },
    {
     "name": "stdout",
     "output_type": "stream",
     "text": [
      "Nothing to yield, check /var/folders/tt/x223wxwj6dzg3vjjgc_6y5bm0000gn/T/tmp7e60rg04\n"
     ]
    },
    {
     "name": "stderr",
     "output_type": "stream",
     "text": [
      "\n"
     ]
    }
   ],
   "source": [
    "from pinder.core.loader.writer import PinderDefaultWriter\n",
    "\n",
    "from pathlib import Path\n",
    "from tempfile import TemporaryDirectory\n",
    "\n",
    "\n",
    "\n",
    "with TemporaryDirectory() as tmp_dir:\n",
    "    temp_dir = Path(tmp_dir)\n",
    "    loader = PinderLoader(\n",
    "        writer=PinderDefaultWriter(temp_dir)\n",
    "    )\n",
    "    loader.load_systems(systems)\n",
    "    for loaded in loader.load(n_cpu=1, batch_size=1):\n",
    "        print(f\"Nothing to yield, check {loader.writer.output_path}\")\n",
    "    for pinder_id in systems:\n",
    "        system_dir = loader.writer.output_path / pinder_id\n",
    "        assert system_dir.is_dir()\n",
    "        assert len(list(system_dir.glob(\"af_*.pdb\"))) > 0"
   ]
  },
  {
   "cell_type": "markdown",
   "id": "66aa43ac-b347-4ee1-8b13-3a8540b088ee",
   "metadata": {},
   "source": [
    "## Torch geometric HeteroData object "
   ]
  },
  {
   "cell_type": "code",
   "execution_count": 9,
   "id": "b0fe7662-674c-4af2-b16f-b38082377335",
   "metadata": {},
   "outputs": [],
   "source": [
    "# Make sure to install torch_cluster\n",
    "# !pip install torch_cluster"
   ]
  },
  {
   "cell_type": "code",
   "execution_count": 8,
   "id": "ce872929-1706-4a09-ad67-63457511099f",
   "metadata": {},
   "outputs": [
    {
     "data": {
      "text/plain": [
       "PairedPDB(\n",
       "  ligand_residue={\n",
       "    residueid=[127, 1],\n",
       "    pos=[127, 3],\n",
       "    edge_index=[2, 1270],\n",
       "    chain=[1],\n",
       "  },\n",
       "  receptor_residue={\n",
       "    residueid=[180, 1],\n",
       "    pos=[180, 3],\n",
       "    edge_index=[2, 1800],\n",
       "    chain=[1],\n",
       "  },\n",
       "  ligand_atom={\n",
       "    x=[1032, 12],\n",
       "    pos=[1032, 3],\n",
       "    edge_index=[2, 10320],\n",
       "  },\n",
       "  receptor_atom={\n",
       "    x=[1441, 12],\n",
       "    pos=[1441, 3],\n",
       "    edge_index=[2, 14410],\n",
       "  }\n",
       ")"
      ]
     },
     "execution_count": 8,
     "metadata": {},
     "output_type": "execute_result"
    }
   ],
   "source": [
    "from pinder.core.loader.geodata import PairedPDB, NodeRepresentation\n",
    "from torch_geometric.data import HeteroData\n",
    "\n",
    "pinder_id = \"3s9d__B1_P48551--3s9d__A1_P01563\"\n",
    "system = PinderSystem(pinder_id)\n",
    "\n",
    "nodes = {NodeRepresentation(\"atom\"), NodeRepresentation(\"residue\")}\n",
    "holo_data = PairedPDB.from_pinder_system(\n",
    "    system=system,\n",
    "    monomer1=\"holo_receptor\", monomer2=\"holo_ligand\",\n",
    "    node_types=nodes,\n",
    ")\n",
    "assert isinstance(holo_data, HeteroData)\n",
    "expected_node_types = [\n",
    "    'ligand_residue', 'receptor_residue', 'ligand_atom', 'receptor_atom'\n",
    "]\n",
    "assert holo_data.num_nodes == 2780\n",
    "assert holo_data.num_edges == 0\n",
    "assert isinstance(holo_data.num_node_features, dict)\n",
    "expected_num_feats = {\n",
    "    'ligand_residue': 0,\n",
    "    'receptor_residue': 0,\n",
    "    'ligand_atom': 12,\n",
    "    'receptor_atom': 12\n",
    "}\n",
    "for k, v in expected_num_feats.items():\n",
    "    assert holo_data.num_node_features[k] == v\n",
    "\n",
    "assert holo_data.node_types == expected_node_types\n",
    "\n",
    "\n",
    "holo_data\n",
    "\n"
   ]
  },
  {
   "cell_type": "code",
   "execution_count": 9,
   "id": "b2913a8f-2992-46de-ab74-1fca594d6088",
   "metadata": {},
   "outputs": [
    {
     "data": {
      "text/plain": [
       "PairedPDB(\n",
       "  ligand_residue={\n",
       "    residueid=[165, 1],\n",
       "    pos=[165, 3],\n",
       "    edge_index=[2, 1650],\n",
       "    chain=[1],\n",
       "  },\n",
       "  receptor_residue={\n",
       "    residueid=[212, 1],\n",
       "    pos=[212, 3],\n",
       "    edge_index=[2, 2120],\n",
       "    chain=[1],\n",
       "  },\n",
       "  ligand_atom={\n",
       "    x=[1350, 12],\n",
       "    pos=[1350, 3],\n",
       "    edge_index=[2, 13500],\n",
       "  },\n",
       "  receptor_atom={\n",
       "    x=[1710, 12],\n",
       "    pos=[1710, 3],\n",
       "    edge_index=[2, 17100],\n",
       "  }\n",
       ")"
      ]
     },
     "execution_count": 9,
     "metadata": {},
     "output_type": "execute_result"
    }
   ],
   "source": [
    "apo_data = PairedPDB.from_pinder_system(\n",
    "    system=system,\n",
    "    monomer1=\"apo_receptor\", monomer2=\"apo_ligand\",\n",
    "    node_types=nodes,\n",
    ")\n",
    "assert isinstance(apo_data, HeteroData)\n",
    "\n",
    "assert apo_data.num_nodes == 3437\n",
    "assert apo_data.num_edges == 0\n",
    "assert isinstance(apo_data.num_node_features, dict)\n",
    "expected_num_feats = {\n",
    "    'ligand_residue': 0,\n",
    "    'receptor_residue': 0,\n",
    "    'ligand_atom': 12,\n",
    "    'receptor_atom': 12\n",
    "}\n",
    "for k, v in expected_num_feats.items():\n",
    "    assert apo_data.num_node_features[k] == v\n",
    "\n",
    "assert apo_data.node_types == expected_node_types\n",
    "\n",
    "apo_data"
   ]
  },
  {
   "cell_type": "markdown",
   "id": "6fffb0cb-53b7-452a-b724-65935d8e1f9f",
   "metadata": {},
   "source": [
    "## Torch geometric Dataset "
   ]
  },
  {
   "cell_type": "code",
   "execution_count": 10,
   "id": "e70b5867-e0e8-4a9f-ab28-c5b03cb3af45",
   "metadata": {},
   "outputs": [
    {
     "name": "stderr",
     "output_type": "stream",
     "text": [
      "Processing...\n",
      "  0%|                                                                                                                                                                                                      | 4/1560682 [00:00<33:33:51, 12.92it/s]"
     ]
    },
    {
     "name": "stdout",
     "output_type": "stream",
     "text": [
      "Finished processing, only 5 systems\n"
     ]
    },
    {
     "name": "stderr",
     "output_type": "stream",
     "text": [
      "Done!\n"
     ]
    },
    {
     "data": {
      "text/plain": [
       "PPIDataset(5)"
      ]
     },
     "execution_count": 10,
     "metadata": {},
     "output_type": "execute_result"
    }
   ],
   "source": [
    "from pinder.core.loader.dataset import PPIDataset\n",
    "\n",
    "\n",
    "train_dataset = PPIDataset(\n",
    "    node_types=nodes,\n",
    "    split=\"train\",\n",
    "    monomer1=\"holo_receptor\",\n",
    "    monomer2=\"holo_ligand\",\n",
    "    limit_by=5,\n",
    "    force_reload=True,\n",
    "    parallel=False,\n",
    ")\n",
    "assert len(train_dataset) == 5\n",
    "\n",
    "train_dataset\n",
    "\n"
   ]
  },
  {
   "cell_type": "code",
   "execution_count": 11,
   "id": "384ae1ba-dc19-48c6-99e8-281707e9fb1a",
   "metadata": {},
   "outputs": [
    {
     "data": {
      "text/plain": [
       "PairedPDB(\n",
       "  ligand_residue={\n",
       "    residueid=[286, 1],\n",
       "    pos=[286, 3],\n",
       "    edge_index=[2, 2860],\n",
       "    chain=[1],\n",
       "  },\n",
       "  receptor_residue={\n",
       "    residueid=[290, 1],\n",
       "    pos=[290, 3],\n",
       "    edge_index=[2, 2900],\n",
       "    chain=[1],\n",
       "  },\n",
       "  ligand_atom={\n",
       "    x=[2313, 12],\n",
       "    pos=[2313, 3],\n",
       "    edge_index=[2, 23130],\n",
       "  },\n",
       "  receptor_atom={\n",
       "    x=[2344, 12],\n",
       "    pos=[2344, 3],\n",
       "    edge_index=[2, 23440],\n",
       "  },\n",
       "  pdb={\n",
       "    id=[1],\n",
       "    num_nodes=1,\n",
       "  }\n",
       ")"
      ]
     },
     "execution_count": 11,
     "metadata": {},
     "output_type": "execute_result"
    }
   ],
   "source": [
    "from pinder.core import get_index\n",
    "\n",
    "pindex = get_index()\n",
    "raw_ids = set(train_dataset.raw_file_names)\n",
    "assert len(raw_ids.intersection(set(pindex.id))) == 5\n",
    "processed_ids = {f.stem for f in train_dataset.processed_file_names}\n",
    "assert len(processed_ids.intersection(set(pindex.id))) == 5\n",
    "\n",
    "data_item = train_dataset[0]\n",
    "assert isinstance(data_item, HeteroData)\n",
    "data_item\n",
    "\n"
   ]
  },
  {
   "cell_type": "code",
   "execution_count": 12,
   "id": "eb4808a7-44f1-4d58-9372-c42880c723ef",
   "metadata": {},
   "outputs": [
    {
     "data": {
      "text/plain": [
       "PairedPDB(\n",
       "  ligand_residue={\n",
       "    residueid=[158, 1],\n",
       "    pos=[158, 3],\n",
       "    edge_index=[2, 1580],\n",
       "    chain=[1],\n",
       "  },\n",
       "  receptor_residue={\n",
       "    residueid=[171, 1],\n",
       "    pos=[171, 3],\n",
       "    edge_index=[2, 1710],\n",
       "    chain=[1],\n",
       "  },\n",
       "  ligand_atom={\n",
       "    x=[1198, 12],\n",
       "    pos=[1198, 3],\n",
       "    edge_index=[2, 11980],\n",
       "  },\n",
       "  receptor_atom={\n",
       "    x=[1358, 12],\n",
       "    pos=[1358, 3],\n",
       "    edge_index=[2, 13580],\n",
       "  },\n",
       "  pdb={\n",
       "    id=[1],\n",
       "    num_nodes=1,\n",
       "  }\n",
       ")"
      ]
     },
     "execution_count": 12,
     "metadata": {},
     "output_type": "execute_result"
    }
   ],
   "source": [
    "data_item = train_dataset.get_filename(\"8phr__X4_UNDEFINED--8phr__W4_UNDEFINED\")\n",
    "data_item\n",
    "\n"
   ]
  },
  {
   "cell_type": "code",
   "execution_count": 13,
   "id": "280a2ba2-1473-4c17-ad0b-f43869d3c3e0",
   "metadata": {},
   "outputs": [
    {
     "name": "stdout",
     "output_type": "stream",
     "text": [
      "PPIDataset (#graphs=5):\n",
      "+------------+----------+----------+\n",
      "|            |   #nodes |   #edges |\n",
      "|------------+----------+----------|\n",
      "| mean       |   2612.4 |        0 |\n",
      "| std        |   1631.6 |        0 |\n",
      "| min        |    999   |        0 |\n",
      "| quantile25 |   1600   |        0 |\n",
      "| median     |   2343   |        0 |\n",
      "| quantile75 |   2886   |        0 |\n",
      "| max        |   5234   |        0 |\n",
      "+------------+----------+----------+\n",
      "Number of nodes per node type:\n",
      "+------------+------------------+--------------------+---------------+-----------------+-------+\n",
      "|            |   ligand_residue |   receptor_residue |   ligand_atom |   receptor_atom |   pdb |\n",
      "|------------+------------------+--------------------+---------------+-----------------+-------|\n",
      "| mean       |            140.2 |              152.8 |        1103.4 |          1215   |     1 |\n",
      "| std        |             90.2 |               87.5 |         738.9 |           717.1 |     0 |\n",
      "| min        |             58   |               62   |         426   |           452   |     1 |\n",
      "| quantile25 |             78   |               97   |         622   |           802   |     1 |\n",
      "| median     |            121   |              144   |         958   |          1119   |     1 |\n",
      "| quantile75 |            158   |              171   |        1198   |          1358   |     1 |\n",
      "| max        |            286   |              290   |        2313   |          2344   |     1 |\n",
      "+------------+------------------+--------------------+---------------+-----------------+-------+\n"
     ]
    }
   ],
   "source": [
    "train_dataset.print_summary()\n"
   ]
  },
  {
   "cell_type": "markdown",
   "id": "93e20e97-7b05-40a1-b125-6d286c6f2202",
   "metadata": {},
   "source": [
    "## Torch geometric DataLoader "
   ]
  },
  {
   "cell_type": "code",
   "execution_count": 14,
   "id": "29ca7612-8a1b-4cf7-a790-cc2b5b26e7e5",
   "metadata": {},
   "outputs": [
    {
     "data": {
      "text/plain": [
       "<torch_geometric.loader.dataloader.DataLoader at 0x15f2afc70>"
      ]
     },
     "execution_count": 14,
     "metadata": {},
     "output_type": "execute_result"
    },
    {
     "name": "stderr",
     "output_type": "stream",
     "text": [
      "  0%|                                                                                                                                                                                                      | 4/1560682 [00:16<33:33:51, 12.92it/s]"
     ]
    }
   ],
   "source": [
    "from pinder.core.loader.dataset import get_geo_loader\n",
    "from torch_geometric.loader import DataLoader\n",
    "\n",
    "\n",
    "loader = get_geo_loader(train_dataset)\n",
    "\n",
    "assert isinstance(loader, DataLoader)\n",
    "assert hasattr(loader, \"dataset\")\n",
    "ds = loader.dataset\n",
    "assert len(ds) == 5\n",
    "\n",
    "\n",
    "loader"
   ]
  },
  {
   "cell_type": "code",
   "execution_count": 15,
   "id": "66f9a0ef-1c1f-47bd-ba86-f2c3340c34ec",
   "metadata": {},
   "outputs": [
    {
     "data": {
      "text/plain": [
       "PPIDataset(5)"
      ]
     },
     "execution_count": 15,
     "metadata": {},
     "output_type": "execute_result"
    }
   ],
   "source": [
    "ds"
   ]
  }
 ],
 "metadata": {
  "kernelspec": {
   "display_name": "pinder",
   "language": "python",
   "name": "pinder"
  },
  "language_info": {
   "codemirror_mode": {
    "name": "ipython",
    "version": 3
   },
   "file_extension": ".py",
   "mimetype": "text/x-python",
   "name": "python",
   "nbconvert_exporter": "python",
   "pygments_lexer": "ipython3",
   "version": "3.10.14"
  }
 },
 "nbformat": 4,
 "nbformat_minor": 5
}
